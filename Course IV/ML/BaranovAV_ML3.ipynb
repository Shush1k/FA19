{
 "cells": [
  {
   "cell_type": "markdown",
   "metadata": {},
   "source": [
    "# 3. Создание нейронной сети при помощи пакета `torch`. Dataset и Dataloader."
   ]
  },
  {
   "cell_type": "code",
   "execution_count": 9,
   "metadata": {
    "id": "6ktSXdQVb9Li"
   },
   "outputs": [],
   "source": [
    "import torch\n",
    "import numpy as np\n",
    "import matplotlib.pyplot as plt"
   ]
  },
  {
   "cell_type": "markdown",
   "metadata": {
    "id": "4L7Inb1JbiDy"
   },
   "source": [
    "## 1. Автоматическое дифференцирование в `torch`"
   ]
  },
  {
   "cell_type": "markdown",
   "metadata": {
    "id": "HsZ69HZ0EsI7"
   },
   "source": [
    "1.1 Воспользовавшись классами `Neuron` и `MSELoss` из задачи 2.4.1 и автоматическим дифференцированием, которое предоставляет `torch`, решить задачу регрессии. Для оптимизации использовать стохастический градиетный спуск."
   ]
  },
  {
   "cell_type": "code",
   "execution_count": 2,
   "metadata": {
    "id": "zynPAaOrRKTm"
   },
   "outputs": [],
   "source": [
    "from sklearn.datasets import make_regression\n",
    "\n",
    "X, y, coef = make_regression(n_features=4, n_informative=4, coef=True, bias=0.5)\n",
    "X = torch.from_numpy(X).to(dtype=torch.float32)\n",
    "y = torch.from_numpy(y).to(dtype=torch.float32)"
   ]
  },
  {
   "cell_type": "code",
   "execution_count": 3,
   "metadata": {},
   "outputs": [],
   "source": [
    "class Neuron:\n",
    "    def __init__(self, input):\n",
    "        self.input = input\n",
    "\n",
    "        self.weights = torch.randn(self.input, requires_grad=True)\n",
    "        self.bias = torch.randn(1, requires_grad=True)\n",
    "\n",
    "    def forward(self, inputs):\n",
    "        return torch.sum(self.weights * inputs) + self.bias\n",
    "\n",
    "\n",
    "class MSELoss:\n",
    "    def forward(self, y_pred, y_true):\n",
    "        return (y_pred - y_true) ** 2\n"
   ]
  },
  {
   "cell_type": "code",
   "execution_count": 4,
   "metadata": {},
   "outputs": [
    {
     "data": {
      "text/plain": [
       "(tensor([49.2238, 90.9107, 24.3537, 85.5429], requires_grad=True),\n",
       " array([49.22376139, 90.91073638, 24.35368966, 85.54286417]))"
      ]
     },
     "execution_count": 4,
     "metadata": {},
     "output_type": "execute_result"
    }
   ],
   "source": [
    "torch.manual_seed(42)\n",
    "\n",
    "neuron = Neuron(X.size(1))\n",
    "mse = MSELoss()\n",
    "\n",
    "lr = 0.1\n",
    "epochs = 15\n",
    "for _ in range(epochs):\n",
    "    for i, (x, y_true) in enumerate(zip(X, y)):\n",
    "        y_pred = neuron.forward(x)\n",
    "\n",
    "        loss = mse.forward(y_pred, y_true)\n",
    "        loss.backward()\n",
    "\n",
    "        with torch.no_grad():\n",
    "            neuron.weights -= lr * neuron.weights.grad\n",
    "            neuron.bias -= lr * neuron.bias.grad\n",
    "\n",
    "        neuron.weights.grad.zero_()\n",
    "        neuron.bias.grad.zero_()\n",
    "\n",
    "neuron.weights, coef"
   ]
  },
  {
   "cell_type": "markdown",
   "metadata": {
    "id": "wxWeyJw5lAqU"
   },
   "source": [
    "1.2 Воспользовавшись классами `Linear` и `MSELoss` из задачи 2.1.4 и 2.3.1, `ReLU` из 2.2.1 и автоматическим дифференцированием, которое предоставляет `torch`, решить задачу регрессии. Для оптимизации использовать пакетный градиентный спуск. Вывести график функции потерь в зависимости от номера эпохи. Вывести на одном графике исходные данные и предсказанные значения."
   ]
  },
  {
   "cell_type": "code",
   "execution_count": 5,
   "metadata": {
    "id": "bnlAt1NEQoat"
   },
   "outputs": [],
   "source": [
    "X = torch.linspace(0, 1, 100).view(-1, 1)\n",
    "y = torch.sin(2 * np.pi * X) + 0.1 * torch.rand(X.size()) "
   ]
  },
  {
   "cell_type": "code",
   "execution_count": 6,
   "metadata": {},
   "outputs": [],
   "source": [
    "class Linear:\n",
    "    def __init__(self, input, neurons):\n",
    "        self.input = input\n",
    "\n",
    "        self.weights = torch.randn(neurons, input, requires_grad=True)\n",
    "        self.biases = torch.randn(neurons, requires_grad=True)\n",
    "\n",
    "    def forward(self, inputs):\n",
    "        return torch.matmul(inputs, self.weights.T) + self.biases\n",
    "\n",
    "\n",
    "\n",
    "class MSELoss:\n",
    "    def forward(self, y_pred, y_true):\n",
    "        return ((y_true - y_pred) ** 2).mean()\n",
    "\n",
    "    def backward(self, y_pred, y_true):\n",
    "        self.dx = 2 * (y_pred - y_true) / y_pred.size(0)\n",
    "        return self.dx\n",
    "\n",
    "\n",
    "class ReLU:\n",
    "    def forward(self, inputs):\n",
    "        return torch.maximum(inputs, torch.tensor(0))\n"
   ]
  },
  {
   "cell_type": "code",
   "execution_count": 7,
   "metadata": {},
   "outputs": [],
   "source": [
    "torch.manual_seed(42)\n",
    "\n",
    "l1 = Linear(X.size(1), 100)\n",
    "relu = ReLU()\n",
    "l2 = Linear(100, y.size(1))\n",
    "mse = MSELoss()\n",
    "\n",
    "lr = 0.01\n",
    "epochs = 1000\n",
    "\n",
    "losses = torch.empty(epochs)\n",
    "for epoch in range(epochs):\n",
    "    y_pred = l2.forward(relu.forward(l1.forward(X)))\n",
    "\n",
    "    loss = mse.forward(y_pred, y)\n",
    "    loss.backward()\n",
    "    losses[epoch] = loss\n",
    "\n",
    "    with torch.no_grad():\n",
    "        l1.weights -= lr * l1.weights.grad\n",
    "        l1.biases -= lr * l1.biases.grad\n",
    "        l2.weights -= lr * l2.weights.grad\n",
    "        l2.biases -= lr * l2.biases.grad\n",
    "\n",
    "    l1.weights.grad.zero_()\n",
    "    l1.biases.grad.zero_()\n",
    "    l2.weights.grad.zero_()\n",
    "    l2.biases.grad.zero_()\n",
    "\n",
    "predicts = l2.forward(relu.forward(l1.forward(X)))"
   ]
  },
  {
   "cell_type": "code",
   "execution_count": 8,
   "metadata": {},
   "outputs": [
    {
     "data": {
      "image/png": "[encoded data removed]",
      "text/plain": [
       "<Figure size 640x480 with 1 Axes>"
      ]
     },
     "metadata": {},
     "output_type": "display_data"
    }
   ],
   "source": [
    "_, ax = plt.subplots(1)\n",
    "\n",
    "ax.scatter(X, y, s=20)\n",
    "ax.plot(X, predicts.detach(), c='r')\n",
    "plt.show()"
   ]
  },
  {
   "cell_type": "markdown",
   "metadata": {
    "id": "nifm0FVB2y5N"
   },
   "source": [
    "## 2. Алгоритмы оптимизации в `torch.optim`"
   ]
  },
  {
   "cell_type": "code",
   "execution_count": 10,
   "metadata": {
    "id": "u5PTTYou3xx8"
   },
   "outputs": [],
   "source": [
    "import torch.optim as optim"
   ]
  },
  {
   "cell_type": "markdown",
   "metadata": {
    "id": "0oBFfJpmcwfn"
   },
   "source": [
    "2.1 Решить задачу 1.1, воспользовавшись оптимизатором `optim.SDG` для применения стохастического градиентого спуска"
   ]
  },
  {
   "cell_type": "code",
   "execution_count": 10,
   "metadata": {},
   "outputs": [],
   "source": [
    "X, y, coef = make_regression(n_features=4, n_informative=4, coef=True, bias=0.5)\n",
    "X = torch.from_numpy(X).to(dtype=torch.float32)\n",
    "y = torch.from_numpy(y).to(dtype=torch.float32)"
   ]
  },
  {
   "cell_type": "code",
   "execution_count": 11,
   "metadata": {},
   "outputs": [],
   "source": [
    "class MSELoss:\n",
    "    def forward(self, y_pred, y_true):\n",
    "        return ((y_true - y_pred) ** 2).mean()\n",
    "\n",
    "    def backward(self, y_pred, y_true):\n",
    "        self.dx = 2 * (y_pred - y_true)\n",
    "        return self.dx\n",
    "        "
   ]
  },
  {
   "cell_type": "code",
   "execution_count": 12,
   "metadata": {},
   "outputs": [
    {
     "data": {
      "text/plain": [
       "(tensor([51.7509,  9.1101, 35.3447, 22.6725], requires_grad=True),\n",
       " array([51.75094245,  9.11006892, 35.34466505, 22.67248239]))"
      ]
     },
     "execution_count": 12,
     "metadata": {},
     "output_type": "execute_result"
    }
   ],
   "source": [
    "torch.manual_seed(42)\n",
    "\n",
    "neuron = Neuron(X.size(1))\n",
    "mse = MSELoss()\n",
    "\n",
    "lr = 0.1\n",
    "optimizer = optim.SGD([neuron.weights, neuron.bias], lr=lr)\n",
    "\n",
    "epochs = 10\n",
    "for epoch in range(epochs):\n",
    "    for i, (x, y_true) in enumerate(zip(X, y)):\n",
    "        optimizer.zero_grad()\n",
    "\n",
    "        y_pred = neuron.forward(x)\n",
    "        loss = mse.forward(y_pred, y_true)\n",
    "        loss.backward()\n",
    "\n",
    "        optimizer.step()\n",
    "\n",
    "neuron.weights, coef"
   ]
  },
  {
   "cell_type": "markdown",
   "metadata": {
    "id": "1LFAacdy46bX"
   },
   "source": [
    "2.2 Решить задачу 1.2, воспользовавшись оптимизатором `optim.Adam` для применения пакетного градиентого спуска. Вывести график функции потерь в зависимости от номера эпохи. Вывести на одном графике исходные данные и предсказанные значения."
   ]
  },
  {
   "cell_type": "code",
   "execution_count": 13,
   "metadata": {},
   "outputs": [],
   "source": [
    "X = torch.linspace(0, 1, 100).view(-1, 1)\n",
    "y = torch.sin(2 * np.pi * X) + 0.1 * torch.rand(X.size())"
   ]
  },
  {
   "cell_type": "code",
   "execution_count": 14,
   "metadata": {},
   "outputs": [],
   "source": [
    "class MSELoss:\n",
    "    def forward(self, y_pred, y_true):\n",
    "        return ((y_true - y_pred) ** 2).mean()\n",
    "\n",
    "    def backward(self, y_pred, y_true):\n",
    "        self.dx = 2 * (y_pred - y_true) / y_pred.size(0)\n",
    "        return self.dx"
   ]
  },
  {
   "cell_type": "code",
   "execution_count": 15,
   "metadata": {},
   "outputs": [],
   "source": [
    "torch.manual_seed(42)\n",
    "\n",
    "l1 = Linear(X.size(1), 100)\n",
    "relu = ReLU()\n",
    "l2 = Linear(100, y.size(1))\n",
    "mse = MSELoss()\n",
    "\n",
    "lr = 0.01\n",
    "optimizer = optim.Adam([l1.weights, l1.biases, l2.weights, l2.biases], lr=lr)\n",
    "\n",
    "epochs = 1000\n",
    "losses = torch.empty(epochs)\n",
    "for epoch in range(epochs):\n",
    "    optimizer.zero_grad()\n",
    "\n",
    "    y_pred = l2.forward(relu.forward(l1.forward(X)))\n",
    "    loss = mse.forward(y_pred, y)\n",
    "    loss.backward()\n",
    "    losses[epoch] = loss\n",
    "\n",
    "    optimizer.step()\n",
    "\n",
    "predicts = l2.forward(relu.forward(l1.forward(X)))"
   ]
  },
  {
   "cell_type": "code",
   "execution_count": null,
   "metadata": {},
   "outputs": [],
   "source": [
    "_, ax = plt.subplots(1)\n",
    "\n",
    "ax.scatter(X, y, s=20)\n",
    "ax.plot(X, predicts.detach(), c='r')\n",
    "plt.show()"
   ]
  },
  {
   "cell_type": "markdown",
   "metadata": {
    "id": "n-qUqdALiN-G"
   },
   "source": [
    "## 3. Построение сетей при помощи `torch.nn`"
   ]
  },
  {
   "cell_type": "code",
   "execution_count": 11,
   "metadata": {
    "id": "Vxsck-1M6TAV"
   },
   "outputs": [],
   "source": [
    "import torch.nn as nn"
   ]
  },
  {
   "cell_type": "markdown",
   "metadata": {
    "id": "M0ICJtarif3_"
   },
   "source": [
    "3.1 Решить задачу регрессии, соблюдая следующие условия:\n",
    "\n",
    "1. Оформить нейронную сеть в виде класса - наследника `nn.Module`\n",
    "2. При создании сети использовать готовые блоки из `torch.nn`: слои, функции активации, функции потерь и т.д.\n",
    "3. Для оптимизации использовать любой алгоритм оптимизации из `torch.optim` "
   ]
  },
  {
   "cell_type": "code",
   "execution_count": 7,
   "metadata": {
    "id": "L1bvXHhO7aWs"
   },
   "outputs": [],
   "source": [
    "X = torch.linspace(0, 1, 100).view(-1, 1)\n",
    "y = torch.sin(2 * np.pi * X) + 0.1 * torch.rand(X.size()) "
   ]
  },
  {
   "cell_type": "code",
   "execution_count": 13,
   "metadata": {},
   "outputs": [
    {
     "name": "stdout",
     "output_type": "stream",
     "text": [
      "Epoch 0 loss: 1.1138478517532349\n",
      "Epoch 100 loss: 0.4571310877799988\n",
      "Epoch 200 loss: 0.33081236481666565\n",
      "Epoch 300 loss: 0.19699892401695251\n",
      "Epoch 400 loss: 0.17748858034610748\n",
      "Epoch 500 loss: 0.17214149236679077\n",
      "Epoch 600 loss: 0.16619540750980377\n",
      "Epoch 700 loss: 0.1593126654624939\n",
      "Epoch 800 loss: 0.15172366797924042\n",
      "Epoch 900 loss: 0.14370009303092957\n"
     ]
    }
   ],
   "source": [
    "class Net(nn.Module):\n",
    "    def __init__(self, neurons):\n",
    "        super(Net, self).__init__()\n",
    "        self.fc1 = torch.nn.Linear(1, neurons)\n",
    "        self.act1 = torch.nn.Sigmoid()\n",
    "        self.fc2 = torch.nn.Linear(neurons, 1)\n",
    "\n",
    "    def forward(self, x):\n",
    "        x = self.fc1(x)\n",
    "        x = self.act1(x)\n",
    "        x = self.fc2(x)\n",
    "        return x\n",
    "\n",
    "neuron = Net(3)\n",
    "optimizer = optim.Adam(neuron.parameters(), lr=0.01)\n",
    "loss = torch.nn.MSELoss()\n",
    "\n",
    "for epoch in range(1000):\n",
    "    optimizer.zero_grad()\n",
    "\n",
    "    y_pred = neuron.forward(X)\n",
    "    loss_val = loss(y_pred, y)\n",
    "\n",
    "    loss_val.backward()\n",
    "\n",
    "    optimizer.step()\n",
    "    \n",
    "    if epoch % 100 == 0: print(f\"Epoch {epoch} loss: {loss_val}\")"
   ]
  },
  {
   "cell_type": "code",
   "execution_count": 18,
   "metadata": {},
   "outputs": [
    {
     "data": {
      "image/png": "[encoded data removed]",
      "text/plain": [
       "<Figure size 640x480 with 1 Axes>"
      ]
     },
     "metadata": {},
     "output_type": "display_data"
    }
   ],
   "source": [
    "with torch.no_grad():\n",
    "  plt.plot(X, y)\n",
    "  plt.plot(X, neuron(X))"
   ]
  },
  {
   "cell_type": "markdown",
   "metadata": {
    "id": "UPUW6fm5jbQd"
   },
   "source": [
    "3.2 Решить задачу регрессии, соблюдая следующие условия:\n",
    "\n",
    "1. Оформить нейронную сеть в виде объекта `nn.Sequential`\n",
    "2. При создании сети использовать готовые блоки из `torch.nn`: слои, функции активации, функции потерь и т.д.\n",
    "3. Для оптимизации использовать любой алгоритм оптимизации из `torch.optim` "
   ]
  },
  {
   "cell_type": "code",
   "execution_count": 19,
   "metadata": {
    "id": "BBwbAEd57a2r"
   },
   "outputs": [],
   "source": [
    "X = torch.linspace(0, 1, 100).view(-1, 1)\n",
    "y = torch.sin(2 * np.pi * X) + 0.1 * torch.rand(X.size()) "
   ]
  },
  {
   "cell_type": "code",
   "execution_count": 20,
   "metadata": {},
   "outputs": [
    {
     "name": "stdout",
     "output_type": "stream",
     "text": [
      "Epoch 0 loss: 0.569923460483551\n",
      "Epoch 100 loss: 0.3521806299686432\n",
      "Epoch 200 loss: 0.18630947172641754\n",
      "Epoch 300 loss: 0.1809440553188324\n",
      "Epoch 400 loss: 0.17152711749076843\n",
      "Epoch 500 loss: 0.15601742267608643\n",
      "Epoch 600 loss: 0.13482309877872467\n",
      "Epoch 700 loss: 0.11470187455415726\n",
      "Epoch 800 loss: 0.08804763108491898\n",
      "Epoch 900 loss: 0.057019203901290894\n"
     ]
    }
   ],
   "source": [
    "X = torch.linspace(0, 1, 100).view(-1, 1)\n",
    "y = torch.sin(2 * np.pi * X) + 0.1 * torch.rand(X.size()) \n",
    "\n",
    "layers = [\n",
    "    torch.nn.Linear(1, 5),\n",
    "    torch.nn.Sigmoid(),\n",
    "    torch.nn.Linear(5, 1)\n",
    "]\n",
    "model = torch.nn.Sequential(*layers)\n",
    "\n",
    "optimizer = optim.Adam(model.parameters(), lr=0.01)\n",
    "loss = torch.nn.MSELoss()\n",
    "\n",
    "for epoch in range(1000):\n",
    "    optimizer.zero_grad()\n",
    "\n",
    "    y_pred = model.forward(X)\n",
    "    loss_val = loss(y_pred, y)\n",
    "\n",
    "    loss_val.backward()\n",
    "\n",
    "    optimizer.step()\n",
    "    \n",
    "    if epoch % 100 == 0: print(f\"Epoch {epoch} loss: {loss_val}\")"
   ]
  },
  {
   "cell_type": "code",
   "execution_count": 21,
   "metadata": {},
   "outputs": [
    {
     "data": {
      "image/png": "[encoded data removed]",
      "text/plain": [
       "<Figure size 640x480 with 1 Axes>"
      ]
     },
     "metadata": {},
     "output_type": "display_data"
    }
   ],
   "source": [
    "with torch.no_grad():\n",
    "  plt.plot(X, y)\n",
    "  plt.plot(X, model(X))"
   ]
  },
  {
   "cell_type": "markdown",
   "metadata": {},
   "source": [
    "3.3 Решить задачу классификации. Датасет: Breast Cancer Wisconsin\n",
    "1. Оформить нейронную сеть в виде объекта `nn.Sequential`\n",
    "2. При создании сети использовать готовые блоки из `torch.nn`: слои, функции активации, функции потерь и т.д.\n",
    "3. Для оптимизации использовать любой алгоритм оптимизации из `torch.optim` "
   ]
  },
  {
   "cell_type": "code",
   "execution_count": 22,
   "metadata": {},
   "outputs": [
    {
     "name": "stdout",
     "output_type": "stream",
     "text": [
      ".. _breast_cancer_dataset:\n",
      "\n",
      "Breast cancer wisconsin (diagnostic) dataset\n",
      "--------------------------------------------\n",
      "\n",
      "**Data Set Characteristics:**\n",
      "\n",
      "    :Number of Instances: 569\n",
      "\n",
      "    :Number of Attributes: 30 numeric, predictive attributes and the class\n",
      "\n",
      "    :Attribute Information:\n",
      "        - radius (mean of distances from center to points on the perimeter)\n",
      "        - texture (standard deviation of gray-scale values)\n",
      "        - perimeter\n",
      "        - area\n",
      "        - smoothness (local variation in radius lengths)\n",
      "        - compactness (perimeter^2 / area - 1.0)\n",
      "        - concavity (severity of concave portions of the contour)\n",
      "        - concave points (number of concave portions of the contour)\n",
      "        - symmetry\n",
      "        - fractal dimension (\"coastline approximation\" - 1)\n",
      "\n",
      "        The mean, standard error, and \"worst\" or largest (mean of the three\n",
      "        worst/largest values) of these features were computed for each image,\n",
      "        resulting in 30 features.  For instance, field 0 is Mean Radius, field\n",
      "        10 is Radius SE, field 20 is Worst Radius.\n",
      "\n",
      "        - class:\n",
      "                - WDBC-Malignant\n",
      "                - WDBC-Benign\n"
     ]
    }
   ],
   "source": [
    "from sklearn import datasets\n",
    "\n",
    "dataset = datasets.load_breast_cancer()\n",
    "\n",
    "X = torch.from_numpy(dataset.data).to(torch.float32)\n",
    "y = torch.from_numpy(dataset.target).to(torch.float32).view(-1, 1)\n",
    "\n",
    "print(dataset.DESCR.split(':Summary Statistics:')[0].strip())"
   ]
  },
  {
   "cell_type": "code",
   "execution_count": 23,
   "metadata": {},
   "outputs": [
    {
     "name": "stdout",
     "output_type": "stream",
     "text": [
      "Epoch 0 loss: 0.03465729206800461\n",
      "Epoch 100 loss: 0.03465729206800461\n",
      "Epoch 200 loss: 0.03465729206800461\n",
      "Epoch 300 loss: 0.03465729206800461\n",
      "Epoch 400 loss: 0.03465729206800461\n",
      "Epoch 500 loss: 0.03465729206800461\n",
      "Epoch 600 loss: 0.03465729206800461\n",
      "Epoch 700 loss: 0.03465729206800461\n",
      "Epoch 800 loss: 0.03465729206800461\n",
      "Epoch 900 loss: 0.03465729206800461\n",
      "Epoch 1000 loss: 0.03465729206800461\n"
     ]
    }
   ],
   "source": [
    "torch.manual_seed(42)\n",
    "\n",
    "net = nn.Sequential(\n",
    "    nn.Linear(X.size(1), 50),\n",
    "    nn.ReLU(),\n",
    "    nn.Linear(50, y.size(1)),\n",
    "    nn.Sigmoid(),\n",
    ")\n",
    "criterion = nn.BCELoss()\n",
    "optimizer = optim.Adam(net.parameters(), lr=0.005)\n",
    "\n",
    "epochs = 1000\n",
    "for epoch in range(epochs + 1):\n",
    "    optimizer.zero_grad()\n",
    "\n",
    "    y_pred = net(X)\n",
    "    loss = criterion(y_pred, y)\n",
    "    loss.backward()\n",
    "\n",
    "    optimizer.step()\n",
    "\n",
    "    if epoch % 100 == 0: print(f\"Epoch {epoch} loss: {loss_val}\")\n"
   ]
  },
  {
   "cell_type": "markdown",
   "metadata": {
    "id": "jQj0oVeLj2A1"
   },
   "source": [
    "## 4. Datasets and dataloaders"
   ]
  },
  {
   "cell_type": "code",
   "execution_count": 24,
   "metadata": {
    "id": "c82tAkXMjajm"
   },
   "outputs": [],
   "source": [
    "from torch.utils.data import Dataset, DataLoader"
   ]
  },
  {
   "cell_type": "markdown",
   "metadata": {
    "id": "hoFPckkp8yhz"
   },
   "source": [
    "4.1 Создать датасет, поставляющий данные из задачи 1.2. \n",
    "\n",
    "Создать `DataLoader` на основе этого датасета и проверить работоспособность.\n",
    "\n",
    "Воспользовавшись результатами 3.1 (или 3.2) обучите модель, пользуясь мини-пакетным градиентным спуском с размером пакета (`batch_size`) = 10"
   ]
  },
  {
   "cell_type": "code",
   "execution_count": 25,
   "metadata": {
    "id": "tlcwQzCFRvFc"
   },
   "outputs": [
    {
     "name": "stdout",
     "output_type": "stream",
     "text": [
      "Epoch 0 loss: 0.03061779960989952\n",
      "Epoch 100 loss: 0.02779426798224449\n",
      "Epoch 200 loss: 0.014549726620316505\n",
      "Epoch 300 loss: 0.0018174577271565795\n",
      "Epoch 400 loss: 0.0010373902041465044\n",
      "Epoch 500 loss: 0.0010347462957724929\n",
      "Epoch 600 loss: 0.0010332404635846615\n",
      "Epoch 700 loss: 0.001031807973049581\n",
      "Epoch 800 loss: 0.0010301483562216163\n",
      "Epoch 900 loss: 0.0010287337936460972\n"
     ]
    }
   ],
   "source": [
    "class SinDataset(Dataset):\n",
    "    def __init__(self):\n",
    "        self.X = torch.linspace(0, 1, 100).view(-1, 1)\n",
    "        self.y = torch.sin(2 * np.pi * self.X) + 0.1 * \\\n",
    "            torch.rand(self.X.size())\n",
    "\n",
    "    def __len__(self):\n",
    "        return len(self.X)\n",
    "\n",
    "    def __getitem__(self, idx):\n",
    "        return self.X[idx], self.y[idx]\n",
    "\n",
    "\n",
    "class SineNet(torch.nn.Module):\n",
    "    def __init__(self, n_hidden_neurons):\n",
    "        super(SineNet, self).__init__()\n",
    "        self.fc1 = torch.nn.Linear(1, n_hidden_neurons)\n",
    "        self.act1 = torch.nn.Sigmoid()\n",
    "        self.fc2 = torch.nn.Linear(n_hidden_neurons, 1)\n",
    "\n",
    "    def forward(self, x):\n",
    "        x = self.fc1(x)\n",
    "        x = self.act1(x)\n",
    "        x = self.fc2(x)\n",
    "        return x\n",
    "\n",
    "\n",
    "neuron = SineNet(3)\n",
    "optimizer = optim.Adam(neuron.parameters(), lr=0.01)\n",
    "loss = torch.nn.MSELoss()\n",
    "dataloader = DataLoader(SinDataset(), batch_size=10)\n",
    "\n",
    "for epoch in range(1000):\n",
    "    X_new, y_new = next(iter(dataloader))\n",
    "    optimizer.zero_grad()\n",
    "\n",
    "    y_pred = neuron.forward(X_new)\n",
    "    loss_val = loss(y_pred, y_new)\n",
    "\n",
    "    loss_val.backward()\n",
    "\n",
    "    optimizer.step()\n",
    "\n",
    "    if epoch % 100 == 0:\n",
    "        print(f\"Epoch {epoch} loss: {loss_val}\")\n"
   ]
  },
  {
   "cell_type": "markdown",
   "metadata": {
    "id": "bxz02a3k_VQL"
   },
   "source": [
    "4.2 Предсказание цен алмазов\n",
    "\n",
    "4.2.1 Создайте датасет на основе файла diamonds.csv. \n",
    "\n",
    "1. Удалите все нечисловые столбцы\n",
    "2. Целевой столбец (`y`) - `price`\n",
    "3. Преобразуйте данные в тензоры корректных размеров\n",
    "\n",
    "4.2.2 Разбейте датасет на обучающий и тестовый датасет при помощи `torch.utils.data.random_split`.\n",
    "\n",
    "4.2.3 Обучите модель для предсказания цен при помощи мини-пакетного градиентного спуска (`batch_size = 256`). \n",
    "\n",
    "4.2.4 Выведите график функции потерь в зависимости от номера эпохи (значение потерь для эпохи рассчитывайте как среднее значение ошибок на каждом батче). Проверьте качество модели на тестовой выборке. \n"
   ]
  },
  {
   "cell_type": "code",
   "execution_count": 30,
   "metadata": {
    "id": "fEfTNJQI8emD"
   },
   "outputs": [],
   "source": [
    "import pandas as pd\n",
    "import torch\n",
    "from torch.utils.data import Dataset, DataLoader\n",
    "\n",
    "\n",
    "class DiamondsDataset(Dataset):\n",
    "    def __init__(self, data):\n",
    "        super().__init__()\n",
    "        self.data = pd.read_csv(data, index_col=[0])\n",
    "\n",
    "    def __len__(self):\n",
    "        return len(self.data)\n",
    "\n",
    "    def __getitem__(self, idx):\n",
    "        self.X = torch.FloatTensor(self.data.select_dtypes(['number']).values)\n",
    "        self.y = torch.FloatTensor(self.data['price'].values)\n",
    "        return self.X[idx], self.y[idx]\n",
    "\n",
    "\n",
    "dataset = DiamondsDataset('diamonds.csv')\n",
    "\n",
    "train, test = torch.utils.data.random_split(\n",
    "    dataset, [int(len(dataset)*0.8), int(len(dataset)*0.2)])\n",
    "\n",
    "diamonds_dataloader_train = DataLoader(train, batch_size=256)\n",
    "diamonds_dataloader_test = DataLoader(test, batch_size=256)\n"
   ]
  },
  {
   "cell_type": "code",
   "execution_count": 34,
   "metadata": {},
   "outputs": [
    {
     "name": "stderr",
     "output_type": "stream",
     "text": [
      "/Users/user/GitHub/FA19/Course/ML/venv/lib/python3.9/site-packages/torch/nn/modules/loss.py:530: UserWarning: Using a target size (torch.Size([256])) that is different to the input size (torch.Size([256, 1])). This will likely lead to incorrect results due to broadcasting. Please ensure they have the same size.\n",
      "  return F.mse_loss(input, target, reduction=self.reduction)\n"
     ]
    },
    {
     "name": "stdout",
     "output_type": "stream",
     "text": [
      "Epoch 0 loss: 29192700.0\n",
      "Epoch 1 loss: 17448584.0\n",
      "Epoch 2 loss: 15634954.0\n",
      "Epoch 3 loss: 14572235.0\n",
      "Epoch 4 loss: 14385574.0\n",
      "Epoch 5 loss: 14355709.0\n",
      "Epoch 6 loss: 14350931.0\n",
      "Epoch 7 loss: 14350165.0\n",
      "Epoch 8 loss: 14350042.0\n",
      "Epoch 9 loss: 14350024.0\n",
      "Epoch 10 loss: 14350021.0\n",
      "Epoch 11 loss: 14350021.0\n",
      "Epoch 12 loss: 14350020.0\n",
      "Epoch 13 loss: 14350022.0\n",
      "Epoch 14 loss: 14350021.0\n",
      "Epoch 15 loss: 14350020.0\n",
      "Epoch 16 loss: 14350020.0\n",
      "Epoch 17 loss: 14350019.0\n",
      "Epoch 18 loss: 14350019.0\n",
      "Epoch 19 loss: 14350020.0\n"
     ]
    }
   ],
   "source": [
    "class DiamondsNet(nn.Module):\n",
    "    def __init__(self, neurons, n_features):\n",
    "        super(DiamondsNet, self).__init__()\n",
    "        self.fc1 = torch.nn.Linear(neurons, n_features)\n",
    "        self.act1 = torch.nn.Sigmoid()\n",
    "        self.fc2 = torch.nn.Linear(n_features, 1)\n",
    "\n",
    "    def forward(self, x):\n",
    "        x = self.fc1(x)\n",
    "        x = self.act1(x)\n",
    "        x = self.fc2(x)\n",
    "        return x\n",
    "\n",
    "neuron = DiamondsNet(7, 49)\n",
    "optimizer = torch.optim.SGD(neuron.parameters(), lr=0.025)\n",
    "loss = torch.nn.MSELoss()\n",
    "\n",
    "loss_vals = []\n",
    "for epoch in range(20):\n",
    "    X_new, y_new = next(iter(diamonds_dataloader_train))\n",
    "    optimizer.zero_grad()\n",
    "\n",
    "    y_pred = neuron.forward(X_new)\n",
    "    loss_val = loss(y_pred, y_new)\n",
    "    loss_vals.append(loss_val)\n",
    "\n",
    "    loss_val.backward()\n",
    "\n",
    "    optimizer.step()\n",
    "    \n",
    "    print(f\"Epoch {epoch} loss: {loss_val}\")"
   ]
  },
  {
   "cell_type": "code",
   "execution_count": 35,
   "metadata": {},
   "outputs": [
    {
     "data": {
      "image/png": "[encoded data removed]",
      "text/plain": [
       "<Figure size 640x480 with 1 Axes>"
      ]
     },
     "metadata": {},
     "output_type": "display_data"
    }
   ],
   "source": [
    "import matplotlib.pyplot as plt\n",
    "\n",
    "with torch.no_grad():\n",
    "  plt.plot(loss_vals)"
   ]
  },
  {
   "cell_type": "markdown",
   "metadata": {
    "id": "qE81cgQdGM7I"
   },
   "source": [
    "4.3 Модифицируйте метод `__init__` датасета из 4.2 таким образом, чтобы он мог принимать параметр `transform: callable`. Реализуйте класс `DropColsTransform` для удаления нечисловых данных из массива. Реализуйте класс `ToTensorTransorm` для трансформации массива в тензор."
   ]
  },
  {
   "cell_type": "code",
   "execution_count": 36,
   "metadata": {
    "id": "J02LNj_F8qxK"
   },
   "outputs": [],
   "source": [
    "class DiamondsDataset(Dataset):\n",
    "  def __init__(self, data, transform=None):\n",
    "    self.data = pd.read_csv(data, index_col = [0])\n",
    "    self.transform = transform\n",
    "\n",
    "  def __len__(self):\n",
    "    return len(self.data)\n",
    "\n",
    "  def __getitem__(self, idx):\n",
    "    X = self.data.drop('price', axis=1)\n",
    "    y = self.data['price']\n",
    "    sample = X.iloc[idx], y.iloc[idx]\n",
    "    if self.transform:\n",
    "      sample = self.transform(sample)\n",
    "    return sample"
   ]
  },
  {
   "cell_type": "code",
   "execution_count": 37,
   "metadata": {
    "id": "tJii-22pHIlU"
   },
   "outputs": [],
   "source": [
    "class DropColsTransform:\n",
    "  def __init__(self, drop):\n",
    "    self.drop = drop\n",
    "  \n",
    "  def __call__(self, sample):\n",
    "    X, y = sample\n",
    "    X = X.drop(X.index[self.drop], axis=0)\n",
    "    return X, y"
   ]
  },
  {
   "cell_type": "code",
   "execution_count": 38,
   "metadata": {
    "id": "dZZ-OKrVHnY5"
   },
   "outputs": [],
   "source": [
    "class ToTensorTransform:\n",
    "  def __call__(self, sample):\n",
    "    X, y = sample\n",
    "    X = torch.FloatTensor(X.astype('float64').values)\n",
    "    y = torch.FloatTensor([y])\n",
    "    return X, y"
   ]
  },
  {
   "cell_type": "code",
   "execution_count": 39,
   "metadata": {
    "id": "GssBjT9JHt5g"
   },
   "outputs": [],
   "source": [
    "from torchvision import transforms\n",
    "\n",
    "drop = DropColsTransform(drop=[1, 2, 3])\n",
    "to_tensor = ToTensorTransform()\n",
    "dataset = DiamondsDataset('diamonds.csv', transform=transforms.Compose([drop, to_tensor]))"
   ]
  },
  {
   "cell_type": "code",
   "execution_count": 41,
   "metadata": {},
   "outputs": [],
   "source": [
    "train, test = torch.utils.data.random_split(dataset, [int(len(dataset)*0.8), int(len(dataset)*0.2)])\n",
    "\n",
    "diamonds_dataloader_train = DataLoader(train, batch_size=256)\n",
    "diamonds_dataloader_test = DataLoader(test, batch_size=256)"
   ]
  },
  {
   "cell_type": "code",
   "execution_count": 42,
   "metadata": {},
   "outputs": [
    {
     "name": "stdout",
     "output_type": "stream",
     "text": [
      "Epoch 0 loss: 23495134.0\n",
      "Epoch 1 loss: 20797674.0\n",
      "Epoch 2 loss: 15253458.0\n",
      "Epoch 3 loss: 12033299.0\n",
      "Epoch 4 loss: 11656595.0\n",
      "Epoch 5 loss: 11613046.0\n",
      "Epoch 6 loss: 11608012.0\n",
      "Epoch 7 loss: 11607431.0\n",
      "Epoch 8 loss: 11607361.0\n",
      "Epoch 9 loss: 11607355.0\n",
      "Epoch 10 loss: 11607354.0\n",
      "Epoch 11 loss: 11607354.0\n",
      "Epoch 12 loss: 11607353.0\n",
      "Epoch 13 loss: 11607354.0\n",
      "Epoch 14 loss: 11607353.0\n",
      "Epoch 15 loss: 11607355.0\n",
      "Epoch 16 loss: 11607355.0\n",
      "Epoch 17 loss: 11607354.0\n",
      "Epoch 18 loss: 11607354.0\n",
      "Epoch 19 loss: 11607354.0\n"
     ]
    }
   ],
   "source": [
    "class DiamondsNet(torch.nn.Module):\n",
    "    def __init__(self, n_hidden_neurons, n_features):\n",
    "        super(DiamondsNet, self).__init__()\n",
    "        self.net = torch.nn.Sequential(\n",
    "            torch.nn.Linear(n_features, n_hidden_neurons), \n",
    "            torch.nn.Sigmoid(), \n",
    "            torch.nn.Linear(n_hidden_neurons,n_hidden_neurons),\n",
    "            torch.nn.Sigmoid(),\n",
    "            torch.nn.Linear(n_hidden_neurons,n_hidden_neurons*2),\n",
    "            torch.nn.Sigmoid(),\n",
    "            torch.nn.Linear(n_hidden_neurons*2,1)\n",
    "        )\n",
    "\n",
    "    def forward(self, x):\n",
    "        x = self.net(x)\n",
    "        return x\n",
    "\n",
    "neuron = DiamondsNet(16, 6)\n",
    "optimizer = torch.optim.SGD(neuron.parameters(), lr=0.01)\n",
    "loss = torch.nn.MSELoss()\n",
    "\n",
    "loss_vals = []\n",
    "for epoch in range(20):\n",
    "    X_new, y_new = next(iter(diamonds_dataloader_train))\n",
    "    optimizer.zero_grad()\n",
    "\n",
    "    y_pred = neuron.forward(X_new)\n",
    "    loss_val = loss(y_pred, y_new)\n",
    "    loss_vals.append(loss_val)\n",
    "\n",
    "    loss_val.backward()\n",
    "\n",
    "    optimizer.step()\n",
    "    \n",
    "    print(f\"Epoch {epoch} loss: {loss_val}\")"
   ]
  },
  {
   "cell_type": "code",
   "execution_count": 43,
   "metadata": {},
   "outputs": [
    {
     "data": {
      "image/png": "[encoded data removed]",
      "text/plain": [
       "<Figure size 640x480 with 1 Axes>"
      ]
     },
     "metadata": {},
     "output_type": "display_data"
    }
   ],
   "source": [
    "with torch.no_grad():\n",
    "  plt.plot(loss_vals)"
   ]
  }
 ],
 "metadata": {
  "colab": {
   "collapsed_sections": [],
   "name": "blank_03_autograd_optim_nn_datasets.ipynb",
   "provenance": []
  },
  "kernelspec": {
   "display_name": "Python 3.9.9 ('venv': venv)",
   "language": "python",
   "name": "python3"
  },
  "language_info": {
   "codemirror_mode": {
    "name": "ipython",
    "version": 3
   },
   "file_extension": ".py",
   "mimetype": "text/x-python",
   "name": "python",
   "nbconvert_exporter": "python",
   "pygments_lexer": "ipython3",
   "version": "3.9.9"
  },
  "vscode": {
   "interpreter": {
    "hash": "6bce47bba83e10b4f0e08440f54bb8a0636051aa9e53df55ad956f5e913bb991"
   }
  }
 },
 "nbformat": 4,
 "nbformat_minor": 1
}