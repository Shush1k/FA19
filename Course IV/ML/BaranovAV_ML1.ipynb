{
 "cells": [
  {
   "cell_type": "markdown",
   "metadata": {
    "id": "_gE94V3G1RCx"
   },
   "source": [
    "# 01. Знакомство с `torch.Tensor`"
   ]
  },
  {
   "cell_type": "markdown",
   "metadata": {
    "id": "TlWOXn0f1RC7"
   },
   "source": [
    "---"
   ]
  },
  {
   "cell_type": "markdown",
   "metadata": {
    "id": "lZfJ1FRM1RC8"
   },
   "source": [
    "При решении данных задач не подразумевается использования циклов или генераторов Python, если в задании не сказано обратного. Решение должно опираться на использование функционала библиотеки `torch`.\n",
    "\n",
    "[PyTorch documentation](https://pytorch.org/docs/stable/#pytorch-documentation)"
   ]
  },
  {
   "cell_type": "code",
   "execution_count": 1,
   "metadata": {
    "id": "b3AW8rF-1RC9"
   },
   "outputs": [],
   "source": [
    "import torch"
   ]
  },
  {
   "cell_type": "markdown",
   "metadata": {
    "id": "vow49PuE1RC9"
   },
   "source": [
    "## 1.1 Создание тензоров и выполнение базовых операций над ними\n",
    "\n",
    "[Документация по функциям для создания тензоров](https://pytorch.org/docs/stable/torch.html#creation-ops)\n",
    "\n",
    "[Документация по функциям для работы с индексами](https://pytorch.org/docs/stable/torch.html#indexing-slicing-joining-mutating-ops)"
   ]
  },
  {
   "cell_type": "markdown",
   "metadata": {
    "id": "wBIwO1SB1RC-"
   },
   "source": [
    "1.1.1 Создайте двумерный тензор размера (8, 8). Используя как можно меньше операций, добейтесь расстановки кодов \"шахматных фигур\".\n",
    "\n",
    "Ожидаемый результат:\n",
    "\n",
    "```\n",
    "[[-4., -3., -2., -6., -5., -2., -3., -4.],\n",
    " [-1., -1., -1., -1., -1., -1., -1., -1.],\n",
    " [0., 0., 0., 0., 0., 0., 0., 0.],\n",
    " [0., 0., 0., 0., 0., 0., 0., 0.],\n",
    " [0., 0., 0., 0., 0., 0., 0., 0.],\n",
    " [0., 0., 0., 0., 0., 0., 0., 0.],\n",
    " [1., 1., 1., 1., 1., 1., 1., 1.],\n",
    " [4., 3., 2., 6., 5., 2., 3., 4.]]\n",
    "\n",
    "```"
   ]
  },
  {
   "cell_type": "code",
   "execution_count": 3,
   "metadata": {},
   "outputs": [
    {
     "data": {
      "text/plain": [
       "tensor([[-4, -3, -2, -6, -5, -2, -3, -4],\n",
       "        [-1, -1, -1, -1, -1, -1, -1, -1],\n",
       "        [ 0,  0,  0,  0,  0,  0,  0,  0],\n",
       "        [ 0,  0,  0,  0,  0,  0,  0,  0],\n",
       "        [ 0,  0,  0,  0,  0,  0,  0,  0],\n",
       "        [ 0,  0,  0,  0,  0,  0,  0,  0],\n",
       "        [ 1,  1,  1,  1,  1,  1,  1,  1],\n",
       "        [ 4,  3,  2,  6,  5,  2,  3,  4]])"
      ]
     },
     "execution_count": 3,
     "metadata": {},
     "output_type": "execute_result"
    }
   ],
   "source": [
    "torch.tensor([\n",
    "    [-4, -3, -2, -6, -5, -2, -3, -4],\n",
    "    [-1, -1, -1, -1, -1, -1, -1, -1],\n",
    "    [0, 0, 0, 0, 0, 0, 0, 0],\n",
    "    [0, 0, 0, 0, 0, 0, 0, 0],\n",
    "    [0, 0, 0, 0, 0, 0, 0, 0],\n",
    "    [0, 0, 0, 0, 0, 0, 0, 0],\n",
    "    [1, 1, 1, 1, 1, 1, 1, 1],\n",
    "    [4, 3, 2, 6, 5, 2, 3, 4],\n",
    "])"
   ]
  },
  {
   "cell_type": "code",
   "execution_count": 6,
   "metadata": {},
   "outputs": [
    {
     "data": {
      "text/plain": [
       "tensor([[-4., -3., -2., -6., -5., -2., -3., -4.],\n",
       "        [-1., -1., -1., -1., -1., -1., -1., -1.],\n",
       "        [ 0.,  0.,  0.,  0.,  0.,  0.,  0.,  0.],\n",
       "        [ 0.,  0.,  0.,  0.,  0.,  0.,  0.,  0.],\n",
       "        [ 0.,  0.,  0.,  0.,  0.,  0.,  0.,  0.],\n",
       "        [ 0.,  0.,  0.,  0.,  0.,  0.,  0.,  0.],\n",
       "        [ 1.,  1.,  1.,  1.,  1.,  1.,  1.,  1.],\n",
       "        [ 4.,  3.,  2.,  6.,  5.,  2.,  3.,  4.]])"
      ]
     },
     "execution_count": 6,
     "metadata": {},
     "output_type": "execute_result"
    }
   ],
   "source": [
    "# Исправил\n",
    "\n",
    "t = torch.zeros(8, 8)\n",
    "t[0] = torch.tensor([-4, -3, -2, -6, -5, -2, -3, -4])\n",
    "t[1] = -1\n",
    "t[-1] = t[0] * -1\n",
    "t[-2] = t[1] * -1\n",
    "t"
   ]
  },
  {
   "cell_type": "markdown",
   "metadata": {
    "id": "20x5RE1V1RC_"
   },
   "source": [
    "1.1.2 Средствами `torch` рассчитать произведения четных чисел от 2 до 20 на ближайшие к ним бОльшие нечетные числа."
   ]
  },
  {
   "cell_type": "code",
   "execution_count": 60,
   "metadata": {},
   "outputs": [
    {
     "data": {
      "text/plain": [
       "tensor([  6,  20,  42,  72, 110, 156, 210, 272, 342, 420])"
      ]
     },
     "execution_count": 60,
     "metadata": {},
     "output_type": "execute_result"
    }
   ],
   "source": [
    "k = torch.arange(2, 20+1, step=2) * torch.arange(3, 22, 2)\n",
    "k"
   ]
  },
  {
   "cell_type": "markdown",
   "metadata": {
    "id": "N_-t5GRM1RC_"
   },
   "source": [
    "1.1.3 Создать тензор размера 11x7 вида: [[1, 2, 3, ..., 7], [11, 12, 13, ..., 17], [21, 22, 23, ..., 27], ..., [101, 102, 103, ..., 107]]"
   ]
  },
  {
   "cell_type": "code",
   "execution_count": 38,
   "metadata": {},
   "outputs": [
    {
     "data": {
      "text/plain": [
       "tensor([[  1,   2,   3,   4,   5,   6,   7],\n",
       "        [ 11,  12,  13,  14,  15,  16,  17],\n",
       "        [ 21,  22,  23,  24,  25,  26,  27],\n",
       "        [ 31,  32,  33,  34,  35,  36,  37],\n",
       "        [ 41,  42,  43,  44,  45,  46,  47],\n",
       "        [ 51,  52,  53,  54,  55,  56,  57],\n",
       "        [ 61,  62,  63,  64,  65,  66,  67],\n",
       "        [ 71,  72,  73,  74,  75,  76,  77],\n",
       "        [ 81,  82,  83,  84,  85,  86,  87],\n",
       "        [ 91,  92,  93,  94,  95,  96,  97],\n",
       "        [101, 102, 103, 104, 105, 106, 107]])"
      ]
     },
     "execution_count": 38,
     "metadata": {},
     "output_type": "execute_result"
    }
   ],
   "source": [
    "torch.arange(1, 110+1).reshape(11,10)[:,:-3]"
   ]
  },
  {
   "cell_type": "markdown",
   "metadata": {
    "id": "oxVeUiHR1RC_"
   },
   "source": [
    "1.1.4 Написать функцию, которая для целых значений `n` и `m` будет возвращать тензор размера `n`x`m`, заполненный текстурой размера 2x2, состоящей из следующих значений:\n",
    "\n",
    "```\n",
    "0 1\n",
    "\n",
    "2 3\n",
    "\n",
    "```\n",
    "\n",
    "Пример для n = 4 и m = 5:\n",
    "\n",
    "```\n",
    "0 1 0 1 0\n",
    "\n",
    "2 3 2 3 2\n",
    "\n",
    "0 1 0 1 0\n",
    "\n",
    "2 3 2 3 2\n",
    "```"
   ]
  },
  {
   "cell_type": "code",
   "execution_count": 59,
   "metadata": {},
   "outputs": [
    {
     "data": {
      "text/plain": [
       "tensor([[0, 1, 0, 1, 0],\n",
       "        [2, 3, 2, 3, 2],\n",
       "        [0, 1, 0, 1, 0],\n",
       "        [2, 3, 2, 3, 2]])"
      ]
     },
     "execution_count": 59,
     "metadata": {},
     "output_type": "execute_result"
    }
   ],
   "source": [
    "def foo(n, m):\n",
    "\n",
    "    return torch.tensor([\n",
    "        [0, 1],\n",
    "        [2, 3]\n",
    "    ]).repeat(n, m)[:n,:m]\n",
    "\n",
    "foo(4, 5)"
   ]
  },
  {
   "cell_type": "markdown",
   "metadata": {
    "id": "WH9hxJse1RDA"
   },
   "source": [
    "1.1.5 Сгенерировать двумерный тензор `t` размерности (4, 7), состоящий из случайных действительных чисел, равномерно распределенных в дипазоне от 0 до 20. Нормализовать значения массива с помощью преобразования вида $ax+b$ так, что после нормализации максимальный элемент масива будет равен 1.0, минимальный 0.0"
   ]
  },
  {
   "cell_type": "code",
   "execution_count": 73,
   "metadata": {},
   "outputs": [
    {
     "data": {
      "text/plain": [
       "tensor([[0.7089, 0.0338, 0.9060, 0.0821, 0.3954, 0.6083, 0.7798],\n",
       "        [0.9422, 1.0000, 0.0493, 0.6321, 0.2517, 0.4306, 0.0741],\n",
       "        [0.9999, 0.0822, 0.7899, 0.6878, 0.6730, 0.1900, 0.9989],\n",
       "        [0.6143, 0.5635, 0.0000, 0.7259, 0.4080, 0.2361, 0.9710]])"
      ]
     },
     "execution_count": 73,
     "metadata": {},
     "output_type": "execute_result"
    }
   ],
   "source": [
    "# r = torch.rand((4, 7)) * 20\n",
    "r = torch.rand((4, 7)).uniform_(0, 20)\n",
    "min_, max_ = r.min(), r.max()\n",
    "(r - min_) / (max_ - min_)"
   ]
  },
  {
   "cell_type": "markdown",
   "metadata": {
    "id": "vPqIeewXB-mM"
   },
   "source": [
    "[Random Sampling](https://pytorch.org/docs/stable/torch.html#random-sampling)\n",
    "\n",
    "[Distributions](https://pytorch.org/docs/stable/distributions.html)"
   ]
  },
  {
   "cell_type": "markdown",
   "metadata": {
    "id": "K_R6cwq11RDE"
   },
   "source": [
    "1.1.6 Задать два двумерных тензора `ar1` и `ar2` размерности (4, 7), состоящих из случайных целых чисел в пределах от 0 до 10. Построить двумерный тензор размерности (4, 7), каждый элемент которого представляет собой максимум из двух значений, находящихся на аналогичной позиции в массивах `ar1`, `ar2`.\n",
    "\n",
    "[Reductions ops](https://pytorch.org/docs/stable/torch.html#reduction-ops)"
   ]
  },
  {
   "cell_type": "code",
   "execution_count": 80,
   "metadata": {},
   "outputs": [
    {
     "data": {
      "text/plain": [
       "(tensor([[ 8,  3,  4,  8,  7,  3,  3],\n",
       "         [ 8,  1, 10,  4,  6,  5,  1],\n",
       "         [ 3,  0,  4,  9,  6,  7,  1],\n",
       "         [10,  8,  7,  4,  4,  8,  9]]),\n",
       " tensor([[ 1,  5,  3,  5,  2,  1,  6],\n",
       "         [ 5,  7,  5,  6, 10,  8,  7],\n",
       "         [ 7, 10,  5,  8,  6,  2,  2],\n",
       "         [ 8,  5,  6,  5,  2,  6, 10]]),\n",
       " tensor([[ 8,  5,  4,  8,  7,  3,  6],\n",
       "         [ 8,  7, 10,  6, 10,  8,  7],\n",
       "         [ 7, 10,  5,  9,  6,  7,  2],\n",
       "         [10,  8,  7,  5,  4,  8, 10]]))"
      ]
     },
     "execution_count": 80,
     "metadata": {},
     "output_type": "execute_result"
    }
   ],
   "source": [
    "ar1 = torch.randint(0, 11, size=(4, 7))\n",
    "ar2 = torch.randint(0, 11, size=(4, 7))\n",
    "\n",
    "ar1, ar2, torch.max(ar1, ar2)"
   ]
  },
  {
   "cell_type": "markdown",
   "metadata": {
    "id": "x6zmMhyKBPWQ"
   },
   "source": [
    "1.1.7 Создать тензор из 20 случайных целых чисел от 0 до 100. Получить второе сверху значение в тензоре. Определить индекс этого значения."
   ]
  },
  {
   "cell_type": "code",
   "execution_count": 96,
   "metadata": {},
   "outputs": [
    {
     "data": {
      "text/plain": [
       "(tensor([ 6, 22,  8, 44, 10, 50, 66, 10, 17, 83,  0, 21, 87, 27,  4, 52, 98, 46,\n",
       "         32, 45]),\n",
       " tensor(12))"
      ]
     },
     "execution_count": 96,
     "metadata": {},
     "output_type": "execute_result"
    }
   ],
   "source": [
    "tens = torch.randint(0, 100+1, size=(20,))\n",
    "tens, tens.sort().indices[-2]"
   ]
  },
  {
   "cell_type": "markdown",
   "metadata": {
    "id": "Xshsy8fD1RDE"
   },
   "source": [
    "## 1.2 Распространение"
   ]
  },
  {
   "cell_type": "markdown",
   "metadata": {
    "id": "jlP22HAJCo28"
   },
   "source": [
    "[Numpy broadcasting](https://numpy.org/devdocs/user/theory.broadcasting.html)\n",
    "\n",
    "[Torch broadcasting](https://pytorch.org/docs/stable/notes/broadcasting.html)"
   ]
  },
  {
   "cell_type": "markdown",
   "metadata": {
    "id": "uRD6-8Gd1RDF"
   },
   "source": [
    "1.2.1 Создать тензор 11x7 вида: `[[1, 2, 3, ..., 7], [11, 12, 13, ..., 17], [21, 22, 23, ..., 27], ..., [101, 102, 103, ..., 107]]`. При решении задачи применить технику распространения."
   ]
  },
  {
   "cell_type": "code",
   "execution_count": 112,
   "metadata": {},
   "outputs": [
    {
     "data": {
      "text/plain": [
       "tensor([[  1,   2,   3,   4,   5,   6,   7],\n",
       "        [ 11,  12,  13,  14,  15,  16,  17],\n",
       "        [ 21,  22,  23,  24,  25,  26,  27],\n",
       "        [ 31,  32,  33,  34,  35,  36,  37],\n",
       "        [ 41,  42,  43,  44,  45,  46,  47],\n",
       "        [ 51,  52,  53,  54,  55,  56,  57],\n",
       "        [ 61,  62,  63,  64,  65,  66,  67],\n",
       "        [ 71,  72,  73,  74,  75,  76,  77],\n",
       "        [ 81,  82,  83,  84,  85,  86,  87],\n",
       "        [ 91,  92,  93,  94,  95,  96,  97],\n",
       "        [101, 102, 103, 104, 105, 106, 107]])"
      ]
     },
     "execution_count": 112,
     "metadata": {},
     "output_type": "execute_result"
    }
   ],
   "source": [
    "torch.arange(1, 8) + torch.arange(0, 101, step=10).reshape(-1, 1)"
   ]
  },
  {
   "cell_type": "markdown",
   "metadata": {
    "id": "iSY9Iday1RDF"
   },
   "source": [
    "1.2.2 Вычесть одномерный тензор `b_1d` из двухмерного тензора `a_2d`, так, чтобы каждый элемент одномерного тензора вычитался из всех элементов соответствующих строк двумерного тензора.\n",
    "\n",
    "_Пример:_\n",
    "\n",
    "Для входа:\n",
    "```python\n",
    "a_2d = np.array([[3,3,3],[4,4,4],[5,5,5]])\n",
    "b_1d = np.array([1,2,3])\n",
    "```\n",
    "\n",
    "Ожидается резульат:\n",
    "\n",
    "```python\n",
    "[[2 2 2]\n",
    " [2 2 2]\n",
    " [2 2 2]]\n",
    "```"
   ]
  },
  {
   "cell_type": "code",
   "execution_count": 116,
   "metadata": {},
   "outputs": [
    {
     "data": {
      "text/plain": [
       "tensor([[2, 2, 2],\n",
       "        [2, 2, 2],\n",
       "        [2, 2, 2]])"
      ]
     },
     "execution_count": 116,
     "metadata": {},
     "output_type": "execute_result"
    }
   ],
   "source": [
    "a_2d = torch.tensor([[3,3,3],[4,4,4],[5,5,5]])\n",
    "b_1d = torch.tensor([1,2,3])\n",
    "\n",
    "a_2d - b_1d.reshape(-1, 1)"
   ]
  },
  {
   "cell_type": "markdown",
   "metadata": {
    "id": "dFTvPsY91RDF"
   },
   "source": [
    "## 1.3 Индексы, маскирование и прихотливое индексирование\n",
    "\n",
    "[Документация по функциям для работы с индексами](https://pytorch.org/docs/stable/torch.html#indexing-slicing-joining-mutating-ops)"
   ]
  },
  {
   "cell_type": "markdown",
   "metadata": {
    "id": "McYtDYhH1RDG"
   },
   "source": [
    "1.3.1 Получить индексы, для которых элементы тензоров `a` и `b` совпадают.\n",
    "\n",
    "_Пример:_\n",
    "\n",
    "Для входа:\n",
    "```python\n",
    "a = np.array([1,2,3,2,3,4,3,4,5,6])\n",
    "b = np.array([7,2,10,2,7,4,9,4,9,8])\n",
    "```\n",
    "\n",
    "Ожидается резульат:\n",
    "\n",
    "```python\n",
    "array([1, 3, 5, 7])\n",
    "```"
   ]
  },
  {
   "cell_type": "code",
   "execution_count": 148,
   "metadata": {},
   "outputs": [
    {
     "data": {
      "text/plain": [
       "tensor([1, 3, 5, 7])"
      ]
     },
     "execution_count": 148,
     "metadata": {},
     "output_type": "execute_result"
    }
   ],
   "source": [
    "a = torch.tensor([1,2,3,2,3,4,3,4,5,6])\n",
    "b = torch.tensor([7,2,10,2,7,4,9,4,9,8])\n",
    "\n",
    "(a == b).nonzero(as_tuple=True)[0]"
   ]
  },
  {
   "cell_type": "markdown",
   "metadata": {
    "id": "MnBq3nfy1RDG"
   },
   "source": [
    "1.3.2 Инвертировать порядок элементов в двумерном тензоре `torch.arange(9).view(3,3)`.\n",
    "\n",
    "Ожидаемый результат:\n",
    "\n",
    "\n",
    "```python\n",
    "array([[8, 7, 6],\n",
    "       [5, 4, 3],\n",
    "       [2, 1, 0]])\n",
    "```"
   ]
  },
  {
   "cell_type": "code",
   "execution_count": 133,
   "metadata": {},
   "outputs": [
    {
     "data": {
      "text/plain": [
       "tensor([[8, 7, 6],\n",
       "        [5, 4, 3],\n",
       "        [2, 1, 0]])"
      ]
     },
     "execution_count": 133,
     "metadata": {},
     "output_type": "execute_result"
    }
   ],
   "source": [
    "torch.arange(9).view(3, 3).flip([1, 0])"
   ]
  },
  {
   "cell_type": "markdown",
   "metadata": {
    "id": "tANsLnOC1RDH"
   },
   "source": [
    "1.3.3 Из входного тензора a получить только элементы, находящиеся в диапазоне от 5 до 10.\n",
    "\n",
    "_Пример:_\n",
    "\n",
    "Для входа:\n",
    "```python\n",
    "\n",
    "a = torch.tensor([2, 6, 1, 9, 10, 3, 27])\n",
    "\n",
    "```\n",
    "\n",
    "Ожидается резульат:\n",
    "\n",
    "```python\n",
    "array([6, 9, 10])\n",
    "```"
   ]
  },
  {
   "cell_type": "code",
   "execution_count": 136,
   "metadata": {},
   "outputs": [
    {
     "data": {
      "text/plain": [
       "tensor([ 6,  9, 10])"
      ]
     },
     "execution_count": 136,
     "metadata": {},
     "output_type": "execute_result"
    }
   ],
   "source": [
    "a = torch.tensor([2, 6, 1, 9, 10, 3, 27])\n",
    "a[(a >= 5) & (a <= 10)]"
   ]
  },
  {
   "cell_type": "markdown",
   "metadata": {
    "id": "3vlK0gV21RDH"
   },
   "source": [
    "1.3.4 Поменять местами столбец 1 и 2 тензора `np.arange(9).reshape(3,3)`"
   ]
  },
  {
   "cell_type": "code",
   "execution_count": 139,
   "metadata": {},
   "outputs": [
    {
     "data": {
      "text/plain": [
       "tensor([[1, 0, 2],\n",
       "        [4, 3, 5],\n",
       "        [7, 6, 8]])"
      ]
     },
     "execution_count": 139,
     "metadata": {},
     "output_type": "execute_result"
    }
   ],
   "source": [
    "t = torch.arange(9).reshape(3, 3)\n",
    "t[:, [0, 1]] = t[:, [1, 0]]\n",
    "t"
   ]
  },
  {
   "cell_type": "markdown",
   "metadata": {
    "id": "cheFtWhU1RDH"
   },
   "source": [
    "1.3.5 Создать тензор 8 на 10 из случайных целых чисел из диапазона от 0 до 10 и найти в ней строку (ее индекс и вывести саму строку), в которой сумма значений минимальна."
   ]
  },
  {
   "cell_type": "code",
   "execution_count": 144,
   "metadata": {},
   "outputs": [
    {
     "data": {
      "text/plain": [
       "(tensor([[ 1,  0,  8,  5,  7,  9,  3,  4,  5,  0],\n",
       "         [ 4,  7,  6,  9,  1,  6,  1,  6,  3,  1],\n",
       "         [ 0,  1,  1,  4,  6,  0,  4,  8,  3,  6],\n",
       "         [ 7,  4,  2,  8, 10,  6,  2,  3,  8,  7],\n",
       "         [ 8,  8,  6,  8,  2,  5,  6,  9,  2,  5],\n",
       "         [ 4,  8,  8,  7,  1,  8,  2,  1,  7, 10],\n",
       "         [ 9,  0,  4,  5,  5,  1,  6,  8, 10,  3],\n",
       "         [ 2,  5,  9, 10,  1,  5,  6,  7,  9,  0]]),\n",
       " tensor(2),\n",
       " tensor([0, 1, 1, 4, 6, 0, 4, 8, 3, 6]))"
      ]
     },
     "execution_count": 144,
     "metadata": {},
     "output_type": "execute_result"
    }
   ],
   "source": [
    "t = torch.randint(0, 10+1, size=(8, 10))\n",
    "idx = t.sum(1).argmin()\n",
    "t, idx, t[idx]"
   ]
  },
  {
   "cell_type": "markdown",
   "metadata": {
    "id": "grOCNU4XFE2B"
   },
   "source": [
    "1.3.6 Cоздать тензор из 20 случайных целых чисел от 0 до 100. Обрезать значения тензора (заменить значения, выходящие за диапазон, на крайние значения) снизу по значению 30, сверху по значению 70."
   ]
  },
  {
   "cell_type": "code",
   "execution_count": 146,
   "metadata": {},
   "outputs": [
    {
     "data": {
      "text/plain": [
       "(tensor([ 91,  98,  22,  23,  41,   6,  61,  66,  18,   0,   6, 100,  37,  63,\n",
       "          98,  93,  38,  23,  89,  65]),\n",
       " tensor([70, 70, 30, 30, 41, 30, 61, 66, 30, 30, 30, 70, 37, 63, 70, 70, 38, 30,\n",
       "         70, 65]))"
      ]
     },
     "execution_count": 146,
     "metadata": {},
     "output_type": "execute_result"
    }
   ],
   "source": [
    "t = torch.randint(0, 100+1, size=(20,))\n",
    "\n",
    "t, t.clamp(min=30, max=70)"
   ]
  },
  {
   "cell_type": "markdown",
   "metadata": {
    "id": "HNfQjY8P1RDI"
   },
   "source": [
    "1.3.7 Создать два тензора размера 30 на 3 из случайных целых чисел из диапазона от 0 до 10 и найти все значения первого тензора, которые больше соответсвующих (по расположению) значений второго тензора. Подсчитать сумму этих значений."
   ]
  },
  {
   "cell_type": "code",
   "execution_count": 160,
   "metadata": {},
   "outputs": [
    {
     "data": {
      "text/plain": [
       "(tensor([ 8,  3,  9,  7,  7,  9,  9,  5,  8,  5,  8,  6, 10,  9,  9,  9,  9,  5,\n",
       "          9,  7,  8,  7,  8,  8,  5,  7,  4,  6, 10,  4, 10,  7, 10,  8,  9, 10,\n",
       "          5,  5,  4]),\n",
       " 286)"
      ]
     },
     "execution_count": 160,
     "metadata": {},
     "output_type": "execute_result"
    }
   ],
   "source": [
    "t1 = torch.randint(0, 10+1, size=(30, 3))\n",
    "t2 = torch.randint(0, 10+1, size=(30, 3))\n",
    "t1[t1 > t2], t1[t1 > t2].sum().item()"
   ]
  },
  {
   "cell_type": "markdown",
   "metadata": {
    "id": "doBCxYJA1RDI"
   },
   "source": [
    "1.3.8 При помощи прихотливого индексирования для двухмерного массива размерности (20, 20), состоящего из случайных целых чисел в пределах от 0 до 10 получить массив элементов находящихся на диагонали, проходящей над основной диагональю."
   ]
  },
  {
   "cell_type": "code",
   "execution_count": 162,
   "metadata": {},
   "outputs": [
    {
     "data": {
      "text/plain": [
       "(tensor([[ 3,  1,  3,  2,  7,  3,  6,  0,  0,  3,  1,  5,  3,  9,  6, 10,  8,  4,\n",
       "           6,  4],\n",
       "         [ 9,  2,  5,  4,  0,  2,  8,  1,  8,  4,  4,  1,  7,  1, 10,  6,  5,  8,\n",
       "           8,  6],\n",
       "         [ 0,  7,  5,  5,  2,  6,  8,  7,  0,  7,  8,  2,  9,  1,  8,  4,  7,  9,\n",
       "           3, 10],\n",
       "         [ 8,  1,  8,  4,  3,  1,  7,  9,  1,  2,  4,  3,  2,  9, 10,  9,  7,  0,\n",
       "          10,  4],\n",
       "         [ 7, 10,  7,  0,  6,  2,  0, 10,  1,  3,  0, 10,  5,  2,  9,  9,  2,  1,\n",
       "           4,  5],\n",
       "         [ 7,  2,  2,  7,  8,  5,  4,  8,  7,  8,  6,  4,  4,  9,  0,  8,  6,  2,\n",
       "           0,  4],\n",
       "         [ 2,  6, 10,  2,  9,  3,  5,  8,  3,  7,  3,  8,  3,  9,  8,  5,  9,  5,\n",
       "           9,  5],\n",
       "         [ 1,  4,  6,  0,  3,  0,  2,  8,  9,  4,  4,  4,  8,  2,  2, 10,  4,  5,\n",
       "           3,  3],\n",
       "         [ 4,  1,  7,  9,  7,  3,  6,  1, 10,  4,  5,  7,  7,  6,  4,  3,  8,  2,\n",
       "          10,  5],\n",
       "         [ 2,  4,  6,  8,  7,  5,  5,  0,  6,  4,  9,  5,  8,  4,  2,  0,  0,  2,\n",
       "           3,  5],\n",
       "         [10, 10,  3,  0,  4,  4,  4,  5,  1,  3,  8,  6,  7,  4,  4, 10, 10,  3,\n",
       "           3,  9],\n",
       "         [ 9,  0,  7,  9,  7,  4,  4,  6,  7,  4,  9, 10,  8,  7,  9,  7,  6,  7,\n",
       "           0,  1],\n",
       "         [ 8,  6,  5,  1,  7,  6,  5,  0,  3,  0,  5,  9, 10,  1,  3,  9, 10,  7,\n",
       "           7,  9],\n",
       "         [10,  8,  9,  3,  1,  3,  7,  9,  4,  7,  8,  5,  3,  1,  9,  3,  1,  6,\n",
       "           5,  7],\n",
       "         [10,  1,  6,  9,  7,  1,  6,  9,  9,  9,  4,  9,  6,  0,  4,  5,  3,  7,\n",
       "           3, 10],\n",
       "         [ 5,  6,  2,  9,  8,  9,  5,  4, 10,  0,  4,  7,  9,  0,  4,  7,  6,  3,\n",
       "           5,  2],\n",
       "         [ 6, 10,  1,  1,  8, 10,  0,  1,  3, 10,  1,  2,  6,  9, 10,  2,  7,  3,\n",
       "           7,  8],\n",
       "         [ 3,  2,  1,  2,  3,  5,  9,  3,  4,  5,  5,  1, 10,  7,  0,  8,  1,  3,\n",
       "           5,  8],\n",
       "         [ 1,  0,  3,  9,  7,  7,  1,  2,  3,  9,  1,  3,  2, 10,  7,  0,  9,  2,\n",
       "           0,  4],\n",
       "         [ 8,  4,  7,  0, 10,  5,  8,  1,  0,  6,  0,  6,  0,  0,  5,  7,  9,  8,\n",
       "           1,  5]]),\n",
       " tensor([1, 5, 5, 3, 2, 4, 8, 9, 4, 9, 6, 8, 1, 9, 5, 6, 3, 5, 4]))"
      ]
     },
     "execution_count": 162,
     "metadata": {},
     "output_type": "execute_result"
    }
   ],
   "source": [
    "t = torch.randint(0, 10+1, size=(20, 20))\n",
    "t, t[torch.arange(19), torch.arange(19)+1]"
   ]
  },
  {
   "cell_type": "markdown",
   "metadata": {
    "id": "6M1lkfLp1RDJ"
   },
   "source": [
    "1.3.9 Задать два двухмерных тензора `ar1` и `ar2` размерности (5, 10), состоящих из случайных целых чисел в пределах от 0 до 10. Удвоить все значения `ar1`, которые совпадают со значениями `ar2`, расположенными на аналогичных позициях."
   ]
  },
  {
   "cell_type": "code",
   "execution_count": 167,
   "metadata": {},
   "outputs": [
    {
     "data": {
      "text/plain": [
       "(tensor([[ 0,  3,  6,  1,  3,  5,  2,  1,  8, 10],\n",
       "         [ 6, 10,  8,  6,  7,  6,  0,  1,  7,  3],\n",
       "         [ 4,  8,  9,  6, 10,  1,  1,  1,  3,  3],\n",
       "         [ 3,  9, 10,  8,  4,  8,  8,  4,  0,  0],\n",
       "         [ 6,  8,  7,  2,  8,  2,  6, 10,  9,  0]]),\n",
       " tensor([[ 8,  5,  9,  8,  5, 10,  8,  2,  1, 10],\n",
       "         [ 1, 10,  2,  3,  0,  5,  8,  2,  7,  9],\n",
       "         [ 9,  1,  7,  6,  0,  8, 10,  7,  4,  7],\n",
       "         [ 2,  3,  8,  9,  7,  4,  8,  8,  4,  8],\n",
       "         [10,  5,  2,  7,  1,  6,  2, 10,  5,  3]]))"
      ]
     },
     "execution_count": 167,
     "metadata": {},
     "output_type": "execute_result"
    }
   ],
   "source": [
    "ar1 = torch.randint(0, 11, size=(5, 10))\n",
    "ar2 = torch.randint(0, 11, size=(5, 10))\n",
    "\n",
    "ar1, ar2"
   ]
  },
  {
   "cell_type": "code",
   "execution_count": 168,
   "metadata": {},
   "outputs": [
    {
     "data": {
      "text/plain": [
       "tensor([[ 0,  3,  6,  1,  3,  5,  2,  1,  8, 20],\n",
       "        [ 6, 20,  8,  6,  7,  6,  0,  1, 14,  3],\n",
       "        [ 4,  8,  9, 12, 10,  1,  1,  1,  3,  3],\n",
       "        [ 3,  9, 10,  8,  4,  8, 16,  4,  0,  0],\n",
       "        [ 6,  8,  7,  2,  8,  2,  6, 20,  9,  0]])"
      ]
     },
     "execution_count": 168,
     "metadata": {},
     "output_type": "execute_result"
    }
   ],
   "source": [
    "ar1[ar1 == ar2] *= 2\n",
    "ar1"
   ]
  },
  {
   "cell_type": "markdown",
   "metadata": {
    "id": "Qe2oVr4p1RDJ"
   },
   "source": [
    "1.3.10 Заданы три двухмерных тензора `ar1`, `ar2` и `ar3` размерности (4, 7), состоящие из случайных целых чисел в пределах от 0 до 10. Обнулить все элементы `ar1`, которые больше соответствующих (находящихся в соответствующих позициях) элементов `ar2` и меньше соответствующих элементов `ar3`."
   ]
  },
  {
   "cell_type": "code",
   "execution_count": 169,
   "metadata": {},
   "outputs": [
    {
     "data": {
      "text/plain": [
       "(tensor([[ 1,  4,  7,  9,  2,  9,  3],\n",
       "         [ 1,  9, 10,  5,  5,  5,  5],\n",
       "         [10, 10,  9,  0,  5,  7,  2],\n",
       "         [10,  9,  5,  2,  3,  0,  7]]),\n",
       " tensor([[ 9,  6, 10,  8,  1,  0, 10],\n",
       "         [ 9,  2, 10,  9,  6,  5,  6],\n",
       "         [ 3,  8, 10,  1,  5,  8,  3],\n",
       "         [ 3,  5,  0,  3,  7,  7, 10]]),\n",
       " tensor([[ 3,  5,  2,  6,  7,  2,  1],\n",
       "         [ 0,  7, 10,  4,  1,  8,  9],\n",
       "         [ 7,  5,  8,  9,  1,  8,  9],\n",
       "         [ 3,  1,  6,  1,  7,  3,  5]]))"
      ]
     },
     "execution_count": 169,
     "metadata": {},
     "output_type": "execute_result"
    }
   ],
   "source": [
    "ar1 = torch.randint(0, 11, size=(4, 7))\n",
    "ar2 = torch.randint(0, 11, size=(4, 7))\n",
    "ar3 = torch.randint(0, 11, size=(4, 7))\n",
    "\n",
    "ar1, ar2, ar3"
   ]
  },
  {
   "cell_type": "code",
   "execution_count": 170,
   "metadata": {},
   "outputs": [
    {
     "data": {
      "text/plain": [
       "tensor([[ 1,  4,  7,  9,  0,  9,  3],\n",
       "        [ 1,  9, 10,  5,  5,  5,  5],\n",
       "        [10, 10,  9,  0,  5,  7,  2],\n",
       "        [10,  9,  0,  2,  3,  0,  7]])"
      ]
     },
     "execution_count": 170,
     "metadata": {},
     "output_type": "execute_result"
    }
   ],
   "source": [
    "ar1[(ar1 > ar2) & (ar1 < ar3)] = 0\n",
    "ar1"
   ]
  },
  {
   "cell_type": "markdown",
   "metadata": {
    "id": "BTcRVeYh1RDK"
   },
   "source": [
    "1.3.11 Задан двумерный тензор `ar1` размерности (20, 5), состоящий из случайных целых чисел в пределах от 0 до 20. Определить, в каких столбцах не менее 5 раз встречается значение, максимальное по своей строке."
   ]
  },
  {
   "cell_type": "code",
   "execution_count": 171,
   "metadata": {},
   "outputs": [
    {
     "data": {
      "text/plain": [
       "tensor([[ 7,  5,  7, 12,  3],\n",
       "        [ 9,  4,  0, 19, 10],\n",
       "        [ 5,  4,  8,  0,  5],\n",
       "        [ 3, 10,  1,  1,  1],\n",
       "        [13, 13, 11,  7, 19],\n",
       "        [15, 11,  6,  4, 14],\n",
       "        [17,  2, 18, 10, 18],\n",
       "        [10,  9, 16,  5, 16],\n",
       "        [18, 12, 13, 10,  2],\n",
       "        [ 6,  9,  9, 16, 17],\n",
       "        [14, 13,  1, 15,  3],\n",
       "        [13, 17,  2,  1,  2],\n",
       "        [20, 10, 20, 10,  9],\n",
       "        [ 7, 16, 10, 20, 13],\n",
       "        [19,  1, 11,  0, 10],\n",
       "        [15, 12,  2, 12,  8],\n",
       "        [10, 13,  3, 14, 18],\n",
       "        [ 8,  3, 20,  2, 18],\n",
       "        [ 2,  3,  2,  9, 13],\n",
       "        [ 2, 19,  3, 10,  8]])"
      ]
     },
     "execution_count": 171,
     "metadata": {},
     "output_type": "execute_result"
    }
   ],
   "source": [
    "ar1 = torch.randint(0, 20+1, size=(20, 5))\n",
    "ar1"
   ]
  },
  {
   "cell_type": "code",
   "execution_count": 181,
   "metadata": {},
   "outputs": [
    {
     "data": {
      "text/plain": [
       "tensor([0])"
      ]
     },
     "execution_count": 181,
     "metadata": {},
     "output_type": "execute_result"
    }
   ],
   "source": [
    "idx = ar1.argmax(1)\n",
    "row, count = idx.unique(return_counts=True)\n",
    "row[count >= 5]"
   ]
  },
  {
   "cell_type": "markdown",
   "metadata": {
    "id": "ZeYlNWNE1RDK"
   },
   "source": [
    "1.3.12 Задан двумерный тензор `ar1` размерности (4, 7), состоящий из случайных  чисел в пределах от 0 до 1. Обнулить все значения в массиве, расположенные строго правее и ниже максимального элемента массива. "
   ]
  },
  {
   "cell_type": "code",
   "execution_count": 190,
   "metadata": {},
   "outputs": [
    {
     "data": {
      "text/plain": [
       "tensor([[0.9456, 0.7112, 0.9362, 0.5075, 0.9956, 0.7069, 0.1897],\n",
       "        [0.1675, 0.6166, 0.4691, 0.0442, 0.4131, 0.0000, 0.0000],\n",
       "        [0.2803, 0.3146, 0.6881, 0.5659, 0.4874, 0.0000, 0.0000],\n",
       "        [0.3361, 0.6867, 0.8172, 0.3351, 0.2198, 0.0000, 0.0000]])"
      ]
     },
     "execution_count": 190,
     "metadata": {},
     "output_type": "execute_result"
    }
   ],
   "source": [
    "ar1 = torch.rand(4, 7)\n",
    "\n",
    "i = torch.div(ar1.argmax(), ar1.shape[1], rounding_mode='floor')\n",
    "j = ar1.argmax() % ar1.shape[1]\n",
    "ar1[i + 1:, j + 1:] = 0\n",
    "ar1"
   ]
  },
  {
   "cell_type": "markdown",
   "metadata": {
    "id": "pYxX90B11RDL"
   },
   "source": [
    "1.3.13 Построить \"one-hot encoding\" для одномерного тензора, содержащего целые числа (длина вектора заранее неизвестна, набор значений заранее неизвестен, при этом в итоговой матрице должны присутствовать столбцы для всех натуральных чисел вплоть до максимального встречающегося в исходном массиве).\n",
    "\n",
    "Пример:\n",
    "\n",
    "для тензора `torch.tensor([2, 3, 2, 2, 2, 1])`.\n",
    "\n",
    "Ожидается результат:\n",
    "\n",
    "```python\n",
    "tensor([[0., 1., 0.],\n",
    "        [0., 0., 1.],\n",
    "        [0., 1., 0.],\n",
    "        [0., 1., 0.],\n",
    "        [0., 1., 0.],\n",
    "        [1., 0., 0.]])\n",
    "```"
   ]
  },
  {
   "cell_type": "code",
   "execution_count": 191,
   "metadata": {},
   "outputs": [
    {
     "data": {
      "text/plain": [
       "tensor([[0, 1, 0],\n",
       "        [0, 0, 1],\n",
       "        [0, 1, 0],\n",
       "        [0, 1, 0],\n",
       "        [0, 1, 0],\n",
       "        [1, 0, 0]])"
      ]
     },
     "execution_count": 191,
     "metadata": {},
     "output_type": "execute_result"
    }
   ],
   "source": [
    "from torch.nn import functional\n",
    "\n",
    "t = torch.tensor([2, 3, 2, 2, 2, 1])\n",
    "functional.one_hot(t - 1)"
   ]
  },
  {
   "cell_type": "markdown",
   "metadata": {
    "id": "GYU8DmNTDLN8"
   },
   "source": [
    "1.3.14 Создать тензор `arr` из 20 случайных целых чисел от 0 до 100. Найти самое частое значение в тензоре. \n",
    "Найти индексы в тензоре, соответствующие самому частому значению. Проверить, как работет алгоритм при двух значениях, имеющих наибольшую встречаемость, предложить приемлемое поведение алгоритма для этого случая. "
   ]
  },
  {
   "cell_type": "code",
   "execution_count": 212,
   "metadata": {},
   "outputs": [
    {
     "data": {
      "text/plain": [
       "(tensor(9), tensor([ 1, 13]))"
      ]
     },
     "execution_count": 212,
     "metadata": {},
     "output_type": "execute_result"
    }
   ],
   "source": [
    "arr = torch.randint(0, 100+1, size=(20,))\n",
    "mode_ = torch.mode(arr).values\n",
    "mode_, (arr == mode_).nonzero(as_tuple=True)[0]"
   ]
  },
  {
   "cell_type": "markdown",
   "metadata": {
    "id": "UenAEfEG1RDN"
   },
   "source": [
    "## 1.4 Математические задачи"
   ]
  },
  {
   "cell_type": "markdown",
   "metadata": {
    "id": "6weDrqJR1RDN"
   },
   "source": [
    "1.4.1 Приблизительно (с погрешностью порядка 1%) рассчитать на какой части интервала от 0 до 10 значение функции x * sin(x) больше 0.5."
   ]
  },
  {
   "cell_type": "code",
   "execution_count": 21,
   "metadata": {},
   "outputs": [
    {
     "data": {
      "text/plain": [
       "0.5230000019073486"
      ]
     },
     "execution_count": 21,
     "metadata": {},
     "output_type": "execute_result"
    }
   ],
   "source": [
    "# Исправил\n",
    "acc = 1000\n",
    "t = torch.linspace(0, 10, acc)\n",
    "range_ = (t * torch.sin(t) > 0.5).sum() / acc\n",
    "range_.item()"
   ]
  },
  {
   "cell_type": "markdown",
   "metadata": {
    "id": "B9xAv8TR1RDN"
   },
   "source": [
    "1.4.2 Найти все простые числа в пределах ста. (Для решения предлагается использовать Решето Эратосфена) Использовать не более 1 цикла (желательно)."
   ]
  },
  {
   "cell_type": "code",
   "execution_count": 225,
   "metadata": {},
   "outputs": [
    {
     "data": {
      "text/plain": [
       "tensor([ 2,  3,  5,  7, 11, 13, 17, 19, 23, 29, 31, 37, 41, 43, 47, 53, 59, 61,\n",
       "        67, 71, 73, 79, 83, 89, 97])"
      ]
     },
     "execution_count": 225,
     "metadata": {},
     "output_type": "execute_result"
    }
   ],
   "source": [
    "arr = torch.arange(2, 101)\n",
    "for i in arr:\n",
    "    arr = arr[(arr % i != 0) | (arr == i)]\n",
    "arr"
   ]
  },
  {
   "cell_type": "markdown",
   "metadata": {
    "id": "AHupFoTR1RDN"
   },
   "source": [
    "1.4.3 Найти евклидово расстояние между двумя одномерными тензорами одинаковой размерности, не используя готовые решения из библиотек."
   ]
  },
  {
   "cell_type": "code",
   "execution_count": 226,
   "metadata": {},
   "outputs": [
    {
     "name": "stdout",
     "output_type": "stream",
     "text": [
      "9\n"
     ]
    }
   ],
   "source": [
    "t1 = torch.tensor([1, 2, 3, 4, 5, 6, 7, 8, 9])\n",
    "t2 = torch.tensor([2, 3, 4, 5, 6, 7, 8, 9, 10])\n",
    "\n",
    "print(((t1 - t2) ** 2).sum().item())"
   ]
  },
  {
   "cell_type": "markdown",
   "metadata": {
    "id": "j-ZvjWDKDVMQ"
   },
   "source": [
    "1.4.4 Создать двумерный тензор 20 на 3, содержащий случайные целые числа от 0 до 100. \n",
    "Интерпретируя тензор как 20 векторов из 3х компонент, отсортировать его по длине векторов."
   ]
  },
  {
   "cell_type": "code",
   "execution_count": 230,
   "metadata": {},
   "outputs": [],
   "source": [
    "arr = torch.randint(0, 100+1, size=(20, 3))"
   ]
  },
  {
   "cell_type": "code",
   "execution_count": 235,
   "metadata": {},
   "outputs": [
    {
     "data": {
      "text/plain": [
       "tensor([[29, 13, 21],\n",
       "        [35, 19, 46],\n",
       "        [27, 65, 16],\n",
       "        [36,  5, 67],\n",
       "        [29, 55, 57],\n",
       "        [32, 85,  0],\n",
       "        [69, 55, 40],\n",
       "        [80, 45, 39],\n",
       "        [ 5, 95, 43],\n",
       "        [ 9, 88, 60],\n",
       "        [92, 45, 34],\n",
       "        [29, 49, 92],\n",
       "        [28, 60, 87],\n",
       "        [74, 23, 83],\n",
       "        [80, 42, 73],\n",
       "        [80, 52, 73],\n",
       "        [10, 95, 76],\n",
       "        [82, 91,  9],\n",
       "        [84, 40, 85],\n",
       "        [93, 73, 87]])"
      ]
     },
     "execution_count": 235,
     "metadata": {},
     "output_type": "execute_result"
    }
   ],
   "source": [
    "arr[(arr ** 2).sum(axis=1).sort().indices]"
   ]
  },
  {
   "cell_type": "markdown",
   "metadata": {
    "id": "IkBRFTKa1RDO"
   },
   "source": [
    "1.4.5 Найти \"локальные максимумы\" в одномерном тензоре (т.е. значения, большие предыдущего и последующего) `torch.tensor([1, 3, 7, 1, 2, 6, 0, 1])` и вывести их индексы."
   ]
  },
  {
   "cell_type": "code",
   "execution_count": 252,
   "metadata": {},
   "outputs": [
    {
     "data": {
      "text/plain": [
       "tensor([3, 6])"
      ]
     },
     "execution_count": 252,
     "metadata": {},
     "output_type": "execute_result"
    }
   ],
   "source": [
    "t = torch.tensor([1, 3, 7, 10, 2, 6, 10, 1])\n",
    "a = torch.diff(t)[:-1]\n",
    "b = torch.diff(t.flip(0)).flip(0)[1:]\n",
    "((a > 0) & (b > 0)).nonzero(as_tuple=True)[0] + 1"
   ]
  },
  {
   "cell_type": "markdown",
   "metadata": {
    "id": "VXD58rlc1RDP"
   },
   "source": [
    "1.4.6 Задан произвольный массив numpy (например массив из 100 случайных числе от 0 до 1). Необходимо найти в нем число наиболее близкое к заданному."
   ]
  },
  {
   "cell_type": "code",
   "execution_count": 256,
   "metadata": {},
   "outputs": [
    {
     "data": {
      "text/plain": [
       "(tensor([0.0848, 0.5701, 0.0819, 0.5680, 0.9249, 0.3200, 0.6195, 0.9436, 0.3403,\n",
       "         0.8403, 0.0230, 0.5524, 0.6858, 0.3128, 0.2413, 0.5770, 0.3968, 0.0704,\n",
       "         0.1881, 0.2522, 0.5654, 0.7688, 0.9692, 0.6323, 0.2433, 0.0531, 0.1179,\n",
       "         0.2234, 0.7442, 0.6063, 0.0870, 0.0048, 0.6104, 0.4663, 0.2192, 0.6356,\n",
       "         0.6143, 0.4214, 0.8407, 0.8367, 0.2124, 0.3622, 0.0205, 0.1645, 0.6285,\n",
       "         0.5899, 0.3745, 0.6396, 0.5233, 0.2247, 0.4161, 0.1731, 0.6348, 0.3828,\n",
       "         0.9365, 0.1381, 0.7669, 0.9413, 0.4229, 0.7756, 0.8834, 0.5732, 0.8970,\n",
       "         0.8483, 0.5537, 0.1500, 0.5644, 0.4294, 0.4004, 0.9406, 0.0468, 0.4795,\n",
       "         0.6420, 0.1693, 0.8388, 0.4429, 0.2823, 0.5803, 0.1952, 0.3862, 0.1439,\n",
       "         0.5115, 0.4881, 0.7916, 0.3462, 0.3539, 0.6611, 0.0541, 0.3652, 0.5532,\n",
       "         0.4267, 0.8844, 0.0680, 0.3955, 0.9549, 0.4823, 0.9390, 0.5017, 0.8714,\n",
       "         0.5105]),\n",
       " tensor(97),\n",
       " tensor(0.5017))"
      ]
     },
     "execution_count": 256,
     "metadata": {},
     "output_type": "execute_result"
    }
   ],
   "source": [
    "t = torch.rand((100,))\n",
    "val = 0.5\n",
    "idx = (t - val).abs().argmin()\n",
    "t, idx, t[idx]"
   ]
  },
  {
   "cell_type": "markdown",
   "metadata": {
    "id": "81F_B2ij1RDP"
   },
   "source": [
    "1.4.7 Решить матричное уравнение `A*X*B=-C` - найти матрицу X. Где `A = [[-1, 2, 4], [-3, 1, 2], [-3, 0, 1]]`, `B=[[3, -1], [2, 1]]`, `C=[[7, 21], [11, 8], [8, 4]]`."
   ]
  },
  {
   "cell_type": "code",
   "execution_count": 263,
   "metadata": {},
   "outputs": [
    {
     "data": {
      "text/plain": [
       "tensor([[ 1.0000e+00,  1.1921e-07],\n",
       "        [-2.0000e+00,  1.0000e+00],\n",
       "        [ 3.0000e+00, -4.0000e+00]])"
      ]
     },
     "execution_count": 263,
     "metadata": {},
     "output_type": "execute_result"
    }
   ],
   "source": [
    "A = torch.tensor([[-1, 2, 4], [-3, 1, 2], [-3, 0, 1]], dtype=torch.float)\n",
    "B = torch.tensor([[3, -1], [2, 1]], dtype=torch.float)\n",
    "C = torch.tensor([[7, 21], [11, 8], [8, 4]], dtype=torch.float)\n",
    "\n",
    "(torch.inverse(A) @ -C @ torch.inverse(B))"
   ]
  },
  {
   "cell_type": "markdown",
   "metadata": {
    "id": "1P7O19bj1RDP"
   },
   "source": [
    "1.4.8 Проверить, является ли система векторов a1 = (3; −3; 0; 7),\n",
    "a2 = (2; 2; 4; 7), a3 = (1; 2; 3; 4), a4 = (5; −4; 1; 3) линейно зависимой?"
   ]
  },
  {
   "cell_type": "code",
   "execution_count": 266,
   "metadata": {},
   "outputs": [
    {
     "data": {
      "text/plain": [
       "tensor(False)"
      ]
     },
     "execution_count": 266,
     "metadata": {},
     "output_type": "execute_result"
    }
   ],
   "source": [
    "a1 = torch.tensor([3, -3, 0, 7], dtype=torch.float)\n",
    "a2 = torch.tensor([2, 2, 4, 7], dtype=torch.float)\n",
    "a3 = torch.tensor([1, 2, 3, 4], dtype=torch.float)\n",
    "a4 = torch.tensor([5, -4, 1, 3], dtype=torch.float)\n",
    "\n",
    "arr = torch.vstack([a1, a2, a3, a4])\n",
    "\n",
    "torch.linalg.matrix_rank(arr) == arr.shape[0]"
   ]
  },
  {
   "cell_type": "markdown",
   "metadata": {
    "id": "Jg_bzMVS1RDQ"
   },
   "source": [
    "1.4.9 Сгенирировать тензор из 200 случайных целых чисел, нормально распрделенных cо стандартным отклонением $\\sigma = 10$ и матожиданием $\\mu = 0$. Построить тензор гистограммы с 20 бинами. "
   ]
  },
  {
   "cell_type": "code",
   "execution_count": 7,
   "metadata": {},
   "outputs": [
    {
     "data": {
      "text/plain": [
       "torch.return_types.histogram(\n",
       "hist=tensor([ 2.,  0.,  2.,  2.,  1.,  9., 13., 13., 15., 21., 23., 19., 20., 19.,\n",
       "        15., 14.,  5.,  5.,  0.,  2.]),\n",
       "bin_edges=tensor([-28.3530, -25.6889, -23.0248, -20.3607, -17.6966, -15.0325, -12.3684,\n",
       "         -9.7043,  -7.0402,  -4.3761,  -1.7120,   0.9521,   3.6162,   6.2803,\n",
       "          8.9444,  11.6085,  14.2726,  16.9367,  19.6008,  22.2649,  24.9290]))"
      ]
     },
     "execution_count": 7,
     "metadata": {},
     "output_type": "execute_result"
    }
   ],
   "source": [
    "t = torch.normal(mean=0, std=10, size=(200,))\n",
    "hist = torch.histogram(t, bins=20)\n",
    "hist"
   ]
  },
  {
   "cell_type": "code",
   "execution_count": null,
   "metadata": {},
   "outputs": [],
   "source": [
    "from matplotlib import plot as plt\n",
    "        \n",
    "plt.bar(t[:-1], hist).show()"
   ]
  }
 ],
 "metadata": {
  "colab": {
   "name": "01_tensor_v1_blank.ipynb",
   "provenance": [],
   "toc_visible": true
  },
  "kernelspec": {
   "display_name": "Python 3.9.9 ('venv': venv)",
   "language": "python",
   "name": "python3"
  },
  "language_info": {
   "codemirror_mode": {
    "name": "ipython",
    "version": 3
   },
   "file_extension": ".py",
   "mimetype": "text/x-python",
   "name": "python",
   "nbconvert_exporter": "python",
   "pygments_lexer": "ipython3",
   "version": "3.9.9"
  },
  "vscode": {
   "interpreter": {
    "hash": "85cdc5d71361dfcc5b3fb4ed7aefa9b35afc6610856124fc4ef475ec6a284a42"
   }
  }
 },
 "nbformat": 4,
 "nbformat_minor": 1
}
